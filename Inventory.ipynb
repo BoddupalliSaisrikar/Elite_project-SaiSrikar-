{
  "nbformat": 4,
  "nbformat_minor": 5,
  "metadata": {
    "kernelspec": {
      "display_name": "Python 3 (ipykernel)",
      "language": "python",
      "name": "python3"
    },
    "language_info": {
      "codemirror_mode": {
        "name": "ipython",
        "version": 3
      },
      "file_extension": ".py",
      "mimetype": "text/x-python",
      "name": "python",
      "nbconvert_exporter": "python",
      "pygments_lexer": "ipython3",
      "version": "3.9.6"
    },
    "colab": {
      "name": "Inventory.ipynb",
      "provenance": [],
      "include_colab_link": true
    }
  },
  "cells": [
    {
      "cell_type": "markdown",
      "metadata": {
        "id": "view-in-github",
        "colab_type": "text"
      },
      "source": [
        "<a href=\"https://colab.research.google.com/github/BoddupalliSaisrikar/Elite_project-SaiSrikar-/blob/main/Inventory.ipynb\" target=\"_parent\"><img src=\"https://colab.research.google.com/assets/colab-badge.svg\" alt=\"Open In Colab\"/></a>"
      ]
    },
    {
      "cell_type": "markdown",
      "metadata": {
        "id": "98c99b14"
      },
      "source": [
        "Inventory Management System"
      ],
      "id": "98c99b14"
    },
    {
      "cell_type": "code",
      "metadata": {
        "id": "e2b877e8"
      },
      "source": [
        "import json"
      ],
      "id": "e2b877e8",
      "execution_count": null,
      "outputs": []
    },
    {
      "cell_type": "code",
      "metadata": {
        "id": "33b932a6"
      },
      "source": [
        "fd = open('record.json','r')\n",
        "txt = fd.read()\n",
        "fd.close()"
      ],
      "id": "33b932a6",
      "execution_count": null,
      "outputs": []
    },
    {
      "cell_type": "code",
      "metadata": {
        "id": "0e37b8d3"
      },
      "source": [
        "record = json.loads(txt)"
      ],
      "id": "0e37b8d3",
      "execution_count": null,
      "outputs": []
    },
    {
      "cell_type": "code",
      "metadata": {
        "id": "210124ba"
      },
      "source": [
        " "
      ],
      "id": "210124ba",
      "execution_count": null,
      "outputs": []
    },
    {
      "cell_type": "code",
      "metadata": {
        "id": "6f277980"
      },
      "source": [
        "# For updating the product list in the existing record"
      ],
      "id": "6f277980",
      "execution_count": null,
      "outputs": []
    },
    {
      "cell_type": "code",
      "metadata": {
        "id": "0161ddfb"
      },
      "source": [
        "lst = list(record.keys())"
      ],
      "id": "0161ddfb",
      "execution_count": null,
      "outputs": []
    },
    {
      "cell_type": "code",
      "metadata": {
        "id": "89672259",
        "outputId": "f3ec7100-f71c-4e26-dc49-e2b6518ecf9b"
      },
      "source": [
        "p_code = input('Enter the product code:')\n",
        "for i in lst:\n",
        "    if(i == p_code):\n",
        "        opt = int(input('Type 1 to update product name:\\nType 2 to update brand name:\\nType 3 to update product weight:\\nType 4 to update product weight:\\nType 5 to update product quantity:\\nType 6 to update product price:'))\n",
        "        if (opt == 1):\n",
        "        ## For updating the product name in the existing record  \n",
        "            product = input('Enter the product name:')\n",
        "            record[p_code]['product']= product \n",
        "            break;\n",
        "        if (opt == 2):\n",
        "        ## For updating the product brand in the existing record\n",
        "            brand_name = input('Enter the brand name:')    \n",
        "            record[p_code]['brand_name'] = brand_name\n",
        "            break;\n",
        "        if (opt == 3):\n",
        "        ## For updating the product weight in the existing record\n",
        "            product_weight = input('Enter the product weight:')    \n",
        "            record[p_code]['product_weight'] = product_weight\n",
        "            break;\n",
        "        if (opt == 4):\n",
        "        ## For updating the product category in the existing record\n",
        "            category = input('Enter the product category:')\n",
        "            record[p_code]['category'] = category\n",
        "            break;\n",
        "        if (opt == 5):\n",
        "        ## For updating the product quantity in the existing record\n",
        "            quantity = int(input('Enter the product quantity to be added:'))\n",
        "            quant = record[p_code]['quantity'] + quantity\n",
        "            record[p_code]['quantity'] = quant\n",
        "            break;\n",
        "        if (opt == 6):\n",
        "        ## For updating the product price in the existing record\n",
        "            price = input('Enter the product price:\\n')    \n",
        "            record[p_code]['price'] = price\n",
        "            break;\n",
        "        else:\n",
        "            print('wrong input')\n",
        "            break;\n",
        "    else:\n",
        "        print(\"Product I'd is wrong OR no such product is available with this product I'd \")\n",
        "        break;"
      ],
      "id": "89672259",
      "execution_count": null,
      "outputs": [
        {
          "name": "stdout",
          "output_type": "stream",
          "text": [
            "Enter the product code:11001101\n",
            "Type 1 to update product name:\n",
            "Type 2 to update brand name:\n",
            "Type 3 to update product weight:\n",
            "Type 4 to update product weight:\n",
            "Type 5 to update product quantity:\n",
            "Type 6 to update product price:5\n",
            "Enter the product quantity to be added:200\n"
          ]
        }
      ]
    },
    {
      "cell_type": "code",
      "metadata": {
        "id": "d65f0fd2"
      },
      "source": [
        ""
      ],
      "id": "d65f0fd2",
      "execution_count": null,
      "outputs": []
    },
    {
      "cell_type": "code",
      "metadata": {
        "id": "47b1f1d5"
      },
      "source": [
        "# For adding new product in the existing record"
      ],
      "id": "47b1f1d5",
      "execution_count": null,
      "outputs": []
    },
    {
      "cell_type": "code",
      "metadata": {
        "id": "9d0d2a80",
        "outputId": "9524a1c3-1f9e-4cbf-e048-b7be329e539c"
      },
      "source": [
        "p_code = input('Enter the product code:')\n",
        "quantity = input('Enter the product quantity to be added:')   \n",
        "product = input('Enter the product name:')\n",
        "brand_name = input('Enter the brand name:')\n",
        "product_weight = input('Enter the product weight:')\n",
        "category = input('Enter the product category:')\n",
        "quantity = input('Enter the product quantity to be added:')\n",
        "price = input('Enter the product price:')\n",
        "    \n",
        "record[p_code] = {'product':product, 'brand_name':brand_name, 'product_weight':product_weight, 'category':category, 'quantity':quantity, 'price':price}"
      ],
      "id": "9d0d2a80",
      "execution_count": null,
      "outputs": [
        {
          "name": "stdout",
          "output_type": "stream",
          "text": [
            "Enter the product code:11007701\n",
            "Enter the product quantity to be added:15\n",
            "Enter the product name:galaxy s5\n",
            "Enter the brand name:samsung\n",
            "Enter the product weight:400 gm\n",
            "Enter the product category:mobiles\n",
            "Enter the product quantity to be added:5\n",
            "Enter the product price:15000\n"
          ]
        }
      ]
    },
    {
      "cell_type": "code",
      "metadata": {
        "id": "329c3dfa"
      },
      "source": [
        ""
      ],
      "id": "329c3dfa",
      "execution_count": null,
      "outputs": []
    },
    {
      "cell_type": "code",
      "metadata": {
        "id": "c4b5ed49"
      },
      "source": [
        "#For selling the products"
      ],
      "id": "c4b5ed49",
      "execution_count": null,
      "outputs": []
    },
    {
      "cell_type": "code",
      "metadata": {
        "id": "44a9a6f1"
      },
      "source": [
        "sale ={}"
      ],
      "id": "44a9a6f1",
      "execution_count": null,
      "outputs": []
    },
    {
      "cell_type": "code",
      "metadata": {
        "id": "26f20dfa",
        "outputId": "a57e9c84-cf4a-4102-cba7-fea99af0ca1a"
      },
      "source": [
        "p_code = input('Enter the product code:')\n",
        "for i in lst:\n",
        "    if(i == p_code):\n",
        "        p_quant = int(input('Enter the product quantity:'))\n",
        "        \n",
        "        if (p_quant > record[p_code]['quantity']):\n",
        "            print('Sorry Purchased item is more than stock')\n",
        "            print('Available stock present is', record[p_code]['quantity'])\n",
        "            break;\n",
        "        else:\n",
        "            sale.update({p_code : {'product':record[p_code]['product'], 'brand_name':record[p_code]['brand_name'], 'quantity':p_quant, 'product_weight':record[p_code]['product_weight'], 'category':record[p_code]['category'], 'price':record[p_code]['price']}} ) \n",
        "            s_quant = record[p_code]['quantity'] - p_quant\n",
        "            record[p_code]['quantity'] = s_quant\n",
        "            break;\n",
        "    else:\n",
        "        print(\"Product I'd is wrong OR no such product is available with this product I'd \")\n",
        "        break;\n",
        "    "
      ],
      "id": "26f20dfa",
      "execution_count": null,
      "outputs": [
        {
          "name": "stdout",
          "output_type": "stream",
          "text": [
            "Enter the product code:11001101\n",
            "Enter the product quantity:20\n"
          ]
        }
      ]
    },
    {
      "cell_type": "code",
      "metadata": {
        "id": "11fd4396"
      },
      "source": [
        ""
      ],
      "id": "11fd4396",
      "execution_count": null,
      "outputs": []
    },
    {
      "cell_type": "code",
      "metadata": {
        "id": "f3fbb19c"
      },
      "source": [
        "# Sales Invoice"
      ],
      "id": "f3fbb19c",
      "execution_count": null,
      "outputs": []
    },
    {
      "cell_type": "code",
      "metadata": {
        "id": "29bb8b06",
        "outputId": "36f66295-c729-474f-ad5e-dfede8b67202"
      },
      "source": [
        "name = input('Enter the name of customer:')\n",
        "p_number = input('Enter the phone number of the customer:')\n",
        "print('Customer Name:', name)\n",
        "print('Phone no.:', p_number)\n",
        "print('Product:', record[p_code]['product'])\n",
        "print('Brand name:',record[p_code]['brand_name'])\n",
        "print('Quantity', p_quant) \n",
        "print('Product Weight', record[p_code]['product_weight'])\n",
        "print('Category',record[p_code]['category']) \n",
        "print('Price', record[p_code]['price'])\n",
        "Amount = record[p_code]['price']*p_quant\n",
        "print('Amount(without tax):', Amount)\n",
        "Amt= Amount*1.18\n",
        "print('Total Amount(inclusive of 18% GST):', Amt)\n",
        "print('Thanks for shopping, Have a nice day!!!')\n"
      ],
      "id": "29bb8b06",
      "execution_count": null,
      "outputs": [
        {
          "name": "stdout",
          "output_type": "stream",
          "text": [
            "Enter the name of customer:mohit\n",
            "Enter the phone number of the customer:568\n",
            "Customer Name: mohit\n",
            "Phone no.: 568\n",
            "Product: Tomato Ketchup\n",
            "Brand name: Tops\n",
            "Quantity 20\n",
            "Product Weight 5 gm\n",
            "Category Medicine\n",
            "Price 5\n",
            "Amount(without tax): 100\n",
            "Total Amount(inclusive of 18% GST): 118.0\n",
            "Thanks for shopping, Have a nice day!!!\n"
          ]
        }
      ]
    },
    {
      "cell_type": "code",
      "metadata": {
        "id": "d940792b"
      },
      "source": [
        "js = json.dumps(sale)"
      ],
      "id": "d940792b",
      "execution_count": null,
      "outputs": []
    },
    {
      "cell_type": "code",
      "metadata": {
        "id": "040d70e3"
      },
      "source": [
        "fd= open(\"sale_file.json\",\"w\")\n",
        "fd.write(js)\n",
        "fd.close()  "
      ],
      "id": "040d70e3",
      "execution_count": null,
      "outputs": []
    },
    {
      "cell_type": "code",
      "metadata": {
        "id": "dde0df66"
      },
      "source": [
        "fd = open(\"sale_file.json\",\"r\")\n",
        "txt = fd.read()\n",
        "fd.close()"
      ],
      "id": "dde0df66",
      "execution_count": null,
      "outputs": []
    },
    {
      "cell_type": "code",
      "metadata": {
        "id": "9f8065cb"
      },
      "source": [
        ""
      ],
      "id": "9f8065cb",
      "execution_count": null,
      "outputs": []
    },
    {
      "cell_type": "code",
      "metadata": {
        "id": "d9f446f3"
      },
      "source": [
        "jf = json.dumps(record)"
      ],
      "id": "d9f446f3",
      "execution_count": null,
      "outputs": []
    },
    {
      "cell_type": "code",
      "metadata": {
        "id": "1cc3f189"
      },
      "source": [
        "ff = open(\"record_update.json\",\"w\")\n",
        "ff.write(jf)\n",
        "ff.close()  "
      ],
      "id": "1cc3f189",
      "execution_count": null,
      "outputs": []
    },
    {
      "cell_type": "code",
      "metadata": {
        "id": "0756df7b"
      },
      "source": [
        "ff = open(\"sale_file.json\",\"r\")\n",
        "txt = ff.read()\n",
        "ff.close()"
      ],
      "id": "0756df7b",
      "execution_count": null,
      "outputs": []
    },
    {
      "cell_type": "code",
      "metadata": {
        "id": "072fdf3a"
      },
      "source": [
        ""
      ],
      "id": "072fdf3a",
      "execution_count": null,
      "outputs": []
    }
  ]
}
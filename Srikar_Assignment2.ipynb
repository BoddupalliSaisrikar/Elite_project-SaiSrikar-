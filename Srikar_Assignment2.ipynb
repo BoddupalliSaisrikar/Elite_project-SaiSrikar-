{
  "nbformat": 4,
  "nbformat_minor": 0,
  "metadata": {
    "kernelspec": {
      "display_name": "Python 3 (ipykernel)",
      "language": "python",
      "name": "python3"
    },
    "language_info": {
      "codemirror_mode": {
        "name": "ipython",
        "version": 3
      },
      "file_extension": ".py",
      "mimetype": "text/x-python",
      "name": "python",
      "nbconvert_exporter": "python",
      "pygments_lexer": "ipython3",
      "version": "3.9.5"
    },
    "colab": {
      "name": "Srikar_Assignment2.ipynb",
      "provenance": [],
      "include_colab_link": true
    }
  },
  "cells": [
    {
      "cell_type": "markdown",
      "metadata": {
        "id": "view-in-github",
        "colab_type": "text"
      },
      "source": [
        "<a href=\"https://colab.research.google.com/github/BoddupalliSaisrikar/Elite_project-SaiSrikar-/blob/main/Srikar_Assignment2.ipynb\" target=\"_parent\"><img src=\"https://colab.research.google.com/assets/colab-badge.svg\" alt=\"Open In Colab\"/></a>"
      ]
    },
    {
      "cell_type": "markdown",
      "metadata": {
        "id": "SmjU8N735AaB"
      },
      "source": [
        "# Summer Olympics Data Analysis Assignment"
      ]
    },
    {
      "cell_type": "code",
      "metadata": {
        "id": "ioQEN5YV5AaJ"
      },
      "source": [
        "import pandas as pd\n",
        "\n",
        "import matplotlib.pyplot as plt"
      ],
      "execution_count": null,
      "outputs": []
    },
    {
      "cell_type": "code",
      "metadata": {
        "id": "EkdwSk125AaK"
      },
      "source": [
        "data=pd.read_csv('summer.csv')"
      ],
      "execution_count": null,
      "outputs": []
    },
    {
      "cell_type": "code",
      "metadata": {
        "id": "_C10ANSt5AaL",
        "outputId": "20029373-fb8a-41d1-c67a-77224e4791e7"
      },
      "source": [
        "data\n"
      ],
      "execution_count": null,
      "outputs": [
        {
          "data": {
            "text/html": [
              "<div>\n",
              "<style scoped>\n",
              "    .dataframe tbody tr th:only-of-type {\n",
              "        vertical-align: middle;\n",
              "    }\n",
              "\n",
              "    .dataframe tbody tr th {\n",
              "        vertical-align: top;\n",
              "    }\n",
              "\n",
              "    .dataframe thead th {\n",
              "        text-align: right;\n",
              "    }\n",
              "</style>\n",
              "<table border=\"1\" class=\"dataframe\">\n",
              "  <thead>\n",
              "    <tr style=\"text-align: right;\">\n",
              "      <th></th>\n",
              "      <th>Year</th>\n",
              "      <th>City</th>\n",
              "      <th>Sport</th>\n",
              "      <th>Discipline</th>\n",
              "      <th>Athlete</th>\n",
              "      <th>Country</th>\n",
              "      <th>Gender</th>\n",
              "      <th>Event</th>\n",
              "      <th>Medal</th>\n",
              "    </tr>\n",
              "  </thead>\n",
              "  <tbody>\n",
              "    <tr>\n",
              "      <th>0</th>\n",
              "      <td>1896</td>\n",
              "      <td>Athens</td>\n",
              "      <td>Aquatics</td>\n",
              "      <td>Swimming</td>\n",
              "      <td>HAJOS, Alfred</td>\n",
              "      <td>HUN</td>\n",
              "      <td>Men</td>\n",
              "      <td>100M Freestyle</td>\n",
              "      <td>Gold</td>\n",
              "    </tr>\n",
              "    <tr>\n",
              "      <th>1</th>\n",
              "      <td>1896</td>\n",
              "      <td>Athens</td>\n",
              "      <td>Aquatics</td>\n",
              "      <td>Swimming</td>\n",
              "      <td>HERSCHMANN, Otto</td>\n",
              "      <td>AUT</td>\n",
              "      <td>Men</td>\n",
              "      <td>100M Freestyle</td>\n",
              "      <td>Silver</td>\n",
              "    </tr>\n",
              "    <tr>\n",
              "      <th>2</th>\n",
              "      <td>1896</td>\n",
              "      <td>Athens</td>\n",
              "      <td>Aquatics</td>\n",
              "      <td>Swimming</td>\n",
              "      <td>DRIVAS, Dimitrios</td>\n",
              "      <td>GRE</td>\n",
              "      <td>Men</td>\n",
              "      <td>100M Freestyle For Sailors</td>\n",
              "      <td>Bronze</td>\n",
              "    </tr>\n",
              "    <tr>\n",
              "      <th>3</th>\n",
              "      <td>1896</td>\n",
              "      <td>Athens</td>\n",
              "      <td>Aquatics</td>\n",
              "      <td>Swimming</td>\n",
              "      <td>MALOKINIS, Ioannis</td>\n",
              "      <td>GRE</td>\n",
              "      <td>Men</td>\n",
              "      <td>100M Freestyle For Sailors</td>\n",
              "      <td>Gold</td>\n",
              "    </tr>\n",
              "    <tr>\n",
              "      <th>4</th>\n",
              "      <td>1896</td>\n",
              "      <td>Athens</td>\n",
              "      <td>Aquatics</td>\n",
              "      <td>Swimming</td>\n",
              "      <td>CHASAPIS, Spiridon</td>\n",
              "      <td>GRE</td>\n",
              "      <td>Men</td>\n",
              "      <td>100M Freestyle For Sailors</td>\n",
              "      <td>Silver</td>\n",
              "    </tr>\n",
              "    <tr>\n",
              "      <th>...</th>\n",
              "      <td>...</td>\n",
              "      <td>...</td>\n",
              "      <td>...</td>\n",
              "      <td>...</td>\n",
              "      <td>...</td>\n",
              "      <td>...</td>\n",
              "      <td>...</td>\n",
              "      <td>...</td>\n",
              "      <td>...</td>\n",
              "    </tr>\n",
              "    <tr>\n",
              "      <th>31160</th>\n",
              "      <td>2012</td>\n",
              "      <td>London</td>\n",
              "      <td>Wrestling</td>\n",
              "      <td>Wrestling Freestyle</td>\n",
              "      <td>JANIKOWSKI, Damian</td>\n",
              "      <td>POL</td>\n",
              "      <td>Men</td>\n",
              "      <td>Wg 84 KG</td>\n",
              "      <td>Bronze</td>\n",
              "    </tr>\n",
              "    <tr>\n",
              "      <th>31161</th>\n",
              "      <td>2012</td>\n",
              "      <td>London</td>\n",
              "      <td>Wrestling</td>\n",
              "      <td>Wrestling Freestyle</td>\n",
              "      <td>REZAEI, Ghasem Gholamreza</td>\n",
              "      <td>IRI</td>\n",
              "      <td>Men</td>\n",
              "      <td>Wg 96 KG</td>\n",
              "      <td>Gold</td>\n",
              "    </tr>\n",
              "    <tr>\n",
              "      <th>31162</th>\n",
              "      <td>2012</td>\n",
              "      <td>London</td>\n",
              "      <td>Wrestling</td>\n",
              "      <td>Wrestling Freestyle</td>\n",
              "      <td>TOTROV, Rustam</td>\n",
              "      <td>RUS</td>\n",
              "      <td>Men</td>\n",
              "      <td>Wg 96 KG</td>\n",
              "      <td>Silver</td>\n",
              "    </tr>\n",
              "    <tr>\n",
              "      <th>31163</th>\n",
              "      <td>2012</td>\n",
              "      <td>London</td>\n",
              "      <td>Wrestling</td>\n",
              "      <td>Wrestling Freestyle</td>\n",
              "      <td>ALEKSANYAN, Artur</td>\n",
              "      <td>ARM</td>\n",
              "      <td>Men</td>\n",
              "      <td>Wg 96 KG</td>\n",
              "      <td>Bronze</td>\n",
              "    </tr>\n",
              "    <tr>\n",
              "      <th>31164</th>\n",
              "      <td>2012</td>\n",
              "      <td>London</td>\n",
              "      <td>Wrestling</td>\n",
              "      <td>Wrestling Freestyle</td>\n",
              "      <td>LIDBERG, Jimmy</td>\n",
              "      <td>SWE</td>\n",
              "      <td>Men</td>\n",
              "      <td>Wg 96 KG</td>\n",
              "      <td>Bronze</td>\n",
              "    </tr>\n",
              "  </tbody>\n",
              "</table>\n",
              "<p>31165 rows × 9 columns</p>\n",
              "</div>"
            ],
            "text/plain": [
              "       Year    City      Sport           Discipline  \\\n",
              "0      1896  Athens   Aquatics             Swimming   \n",
              "1      1896  Athens   Aquatics             Swimming   \n",
              "2      1896  Athens   Aquatics             Swimming   \n",
              "3      1896  Athens   Aquatics             Swimming   \n",
              "4      1896  Athens   Aquatics             Swimming   \n",
              "...     ...     ...        ...                  ...   \n",
              "31160  2012  London  Wrestling  Wrestling Freestyle   \n",
              "31161  2012  London  Wrestling  Wrestling Freestyle   \n",
              "31162  2012  London  Wrestling  Wrestling Freestyle   \n",
              "31163  2012  London  Wrestling  Wrestling Freestyle   \n",
              "31164  2012  London  Wrestling  Wrestling Freestyle   \n",
              "\n",
              "                         Athlete Country Gender                       Event  \\\n",
              "0                  HAJOS, Alfred     HUN    Men              100M Freestyle   \n",
              "1               HERSCHMANN, Otto     AUT    Men              100M Freestyle   \n",
              "2              DRIVAS, Dimitrios     GRE    Men  100M Freestyle For Sailors   \n",
              "3             MALOKINIS, Ioannis     GRE    Men  100M Freestyle For Sailors   \n",
              "4             CHASAPIS, Spiridon     GRE    Men  100M Freestyle For Sailors   \n",
              "...                          ...     ...    ...                         ...   \n",
              "31160         JANIKOWSKI, Damian     POL    Men                    Wg 84 KG   \n",
              "31161  REZAEI, Ghasem Gholamreza     IRI    Men                    Wg 96 KG   \n",
              "31162             TOTROV, Rustam     RUS    Men                    Wg 96 KG   \n",
              "31163          ALEKSANYAN, Artur     ARM    Men                    Wg 96 KG   \n",
              "31164             LIDBERG, Jimmy     SWE    Men                    Wg 96 KG   \n",
              "\n",
              "        Medal  \n",
              "0        Gold  \n",
              "1      Silver  \n",
              "2      Bronze  \n",
              "3        Gold  \n",
              "4      Silver  \n",
              "...       ...  \n",
              "31160  Bronze  \n",
              "31161    Gold  \n",
              "31162  Silver  \n",
              "31163  Bronze  \n",
              "31164  Bronze  \n",
              "\n",
              "[31165 rows x 9 columns]"
            ]
          },
          "execution_count": 6,
          "metadata": {},
          "output_type": "execute_result"
        }
      ]
    },
    {
      "cell_type": "markdown",
      "metadata": {
        "id": "UoktIvoV5AaN"
      },
      "source": [
        "### 1. In how many cities Summer Olympics is held so far?"
      ]
    },
    {
      "cell_type": "code",
      "metadata": {
        "id": "kBJR_IJ45AaP",
        "outputId": "9c49354b-8774-4f5b-fdd3-bbb4b6106a70"
      },
      "source": [
        "count=data.City.value_counts()\n",
        "\n",
        "print(len(count),\" cities so far\")\n"
      ],
      "execution_count": null,
      "outputs": [
        {
          "name": "stdout",
          "output_type": "stream",
          "text": [
            "22  cities so far\n"
          ]
        }
      ]
    },
    {
      "cell_type": "markdown",
      "metadata": {
        "id": "i5Us8OMC5AaQ"
      },
      "source": [
        "### 2. Which sport is having most number of Gold Medals so far? (Top 5)"
      ]
    },
    {
      "cell_type": "code",
      "metadata": {
        "id": "G4iVncS75AaR",
        "outputId": "8d1853c6-0369-4379-cdab-e9450cad1f91"
      },
      "source": [
        "plt.figure(figsize=(14,7))\n",
        "\n",
        "gold=data[data['Medal']==\"Gold\"]\n",
        "\n",
        "sport_gold=gold[[\"Sport\",\"Medal\"]].groupby(\"Sport\")\n",
        "\n",
        "grouped=sport_gold.count().sort_values(\"Medal\",ascending=False)\n",
        "\n",
        "x=grouped.head(5).index\n",
        "\n",
        "y=grouped.head(5).Medal\n",
        "\n",
        "plt.bar(x,y,color='g')\n",
        "\n"
      ],
      "execution_count": null,
      "outputs": [
        {
          "data": {
            "text/plain": [
              "<BarContainer object of 5 artists>"
            ]
          },
          "execution_count": 9,
          "metadata": {},
          "output_type": "execute_result"
        },
        {
          "data": {
            "image/png": "[encoded data removed]",
            "text/plain": [
              "<Figure size 1008x504 with 1 Axes>"
            ]
          },
          "metadata": {
            "needs_background": "light"
          },
          "output_type": "display_data"
        }
      ]
    },
    {
      "cell_type": "markdown",
      "metadata": {
        "id": "2RC8LbV05AaS"
      },
      "source": [
        "### 2. Which sport is having most number of Medals so far? (Top 5)"
      ]
    },
    {
      "cell_type": "code",
      "metadata": {
        "id": "8_0D3owM5AaT",
        "outputId": "9ed11a56-0d63-4335-adfb-9ed36bf3b33c"
      },
      "source": [
        "plt.figure(figsize=(14,7))\n",
        "\n",
        "gold=df[[\"Sport\",\"Medal\"]].groupby(\"Sport\")\n",
        "\n",
        "grouped=gold.count().sort_values(\"Medal\",ascending=False)\n",
        "\n",
        "x=grouped.head(5).index\n",
        "\n",
        "y=grouped.head(5).Medal\n",
        "\n",
        "plt.bar(x,y,color='r')\n",
        "\n"
      ],
      "execution_count": null,
      "outputs": [
        {
          "data": {
            "text/plain": [
              "<BarContainer object of 5 artists>"
            ]
          },
          "execution_count": 11,
          "metadata": {},
          "output_type": "execute_result"
        },
        {
          "data": {
            "image/png": "[encoded data removed]",
            "text/plain": [
              "<Figure size 1008x504 with 1 Axes>"
            ]
          },
          "metadata": {
            "needs_background": "light"
          },
          "output_type": "display_data"
        }
      ]
    },
    {
      "cell_type": "markdown",
      "metadata": {
        "id": "Z3TZ0BgH5AaU"
      },
      "source": [
        "### 4. Which player has won most number of medals? (Top 5)"
      ]
    },
    {
      "cell_type": "code",
      "metadata": {
        "id": "Usw4mauu5AaU",
        "outputId": "2d250113-5d03-4144-90c7-714058e2bb9b"
      },
      "source": [
        "plt.figure(figsize=(14,7))\n",
        "\n",
        "\n",
        "medals_list=df[[\"Athlete\",\"Medal\"]].groupby(\"Athlete\")\n",
        "\n",
        "grouped=medals_list.count().sort_values(\"Medal\",ascending=False).head(5)\n",
        "\n",
        "x=grouped.index\n",
        "\n",
        "y=grouped.Medal\n",
        "\n",
        "plt.bar(x,y,color='orange')\n",
        "\n"
      ],
      "execution_count": null,
      "outputs": [
        {
          "data": {
            "text/plain": [
              "<BarContainer object of 5 artists>"
            ]
          },
          "execution_count": 12,
          "metadata": {},
          "output_type": "execute_result"
        },
        {
          "data": {
            "image/png": "[encoded data removed]",
            "text/plain": [
              "<Figure size 1008x504 with 1 Axes>"
            ]
          },
          "metadata": {
            "needs_background": "light"
          },
          "output_type": "display_data"
        }
      ]
    },
    {
      "cell_type": "markdown",
      "metadata": {
        "id": "uShpsBpN5AaV"
      },
      "source": [
        "### 5. Which player has won most number Gold Medals of medals? (Top 5)"
      ]
    },
    {
      "cell_type": "code",
      "metadata": {
        "id": "YokHtf_c5AaV",
        "outputId": "1aabc5df-ba56-4652-e216-3ca55b8a5302"
      },
      "source": [
        "plt.figure(figsize=(14,7))\n",
        "\n",
        "medals_list=df[[\"Athlete\",\"Medal\"]]\n",
        "athlete_gold=medals_list[medals_list[\"Medal\"]==\"Gold\"].groupby(\"Athlete\")\n",
        "\n",
        "grouped=athlete_gold.count().sort_values(\"Medal\",ascending=False).head(5)\n",
        "\n",
        "x=grouped.index\n",
        "\n",
        "y=grouped.Medal\n",
        "\n",
        "plt.bar(x,y,color=\"gold\")\n",
        "\n"
      ],
      "execution_count": null,
      "outputs": [
        {
          "data": {
            "text/plain": [
              "<BarContainer object of 5 artists>"
            ]
          },
          "execution_count": 14,
          "metadata": {},
          "output_type": "execute_result"
        },
        {
          "data": {
            "image/png": "[encoded data removed]",
            "text/plain": [
              "<Figure size 1008x504 with 1 Axes>"
            ]
          },
          "metadata": {
            "needs_background": "light"
          },
          "output_type": "display_data"
        }
      ]
    },
    {
      "cell_type": "markdown",
      "metadata": {
        "id": "2gUMf_cd5AaW"
      },
      "source": [
        "### 6. In which year India won first Gold Medal in Summer Olympics?"
      ]
    },
    {
      "cell_type": "code",
      "metadata": {
        "id": "rZydEjf85AaW",
        "outputId": "45b212ca-9672-4ffd-8acc-6fdd0bee542f"
      },
      "source": [
        "india_medal=df[df[\"Country\"]==\"IND\"]\n",
        "\n",
        "first_gold=india_medal[india_medal[\"Medal\"]==\"Gold\"].head(1).Year\n",
        "\n",
        "print(first_gold[5512])\n",
        "\n",
        "\n"
      ],
      "execution_count": null,
      "outputs": [
        {
          "name": "stdout",
          "output_type": "stream",
          "text": [
            "1928\n"
          ]
        }
      ]
    },
    {
      "cell_type": "markdown",
      "metadata": {
        "id": "ADzvOSyk5AaX"
      },
      "source": [
        "### 7. Which event is most popular in terms on number of players? (Top 5)"
      ]
    },
    {
      "cell_type": "code",
      "metadata": {
        "id": "C4AkG0Gs5AaX",
        "outputId": "d0f76842-cf64-41f6-d36c-6bb0a7fa6ff4"
      },
      "source": [
        "plt.figure(figsize=(14,7))\n",
        "event_athlete=df[[\"Athlete\",\"Event\"]].groupby(\"Event\").count()\n",
        "\n",
        "grouped=event_athlete.sort_values(\"Athlete\",ascending=False).head(5)\n",
        "\n",
        "\n",
        "x=grouped.index\n",
        "\n",
        "y=grouped.Athlete\n",
        "\n",
        "plt.bar(x,y,color='b')\n",
        "\n"
      ],
      "execution_count": null,
      "outputs": [
        {
          "data": {
            "text/plain": [
              "<BarContainer object of 5 artists>"
            ]
          },
          "execution_count": 18,
          "metadata": {},
          "output_type": "execute_result"
        },
        {
          "data": {
            "image/png": "[encoded data removed]",
            "text/plain": [
              "<Figure size 1008x504 with 1 Axes>"
            ]
          },
          "metadata": {
            "needs_background": "light"
          },
          "output_type": "display_data"
        }
      ]
    },
    {
      "cell_type": "markdown",
      "metadata": {
        "id": "U6ED8d0n5AaY"
      },
      "source": [
        "### 8. Which sport is having most female Gold Medalists? (Top 5)"
      ]
    },
    {
      "cell_type": "code",
      "metadata": {
        "id": "4qpkVm_15AaY",
        "outputId": "c616b977-6bea-4643-854e-5c1324ae885b"
      },
      "source": [
        "plt.figure(figsize=(14,7))\n",
        "gender=df[[\"Sport\",\"Gender\",\"Medal\"]]\n",
        "\n",
        "\n",
        "fe_sport=gender[gender[\"Gender\"]==\"Women\"] \n",
        "fe_sport_gold=fe_sport[fe_sport[\"Medal\"]==\"Gold\"].groupby(\"Sport\").count()\n",
        "\n",
        "\n",
        "grouped=fe_sport_gold.sort_values(\"Gender\",ascending=False).head(5)\n",
        "\n",
        "female_sport=grouped.index\n",
        "\n",
        "no_of_female=grouped.Gender\n",
        "\n",
        "plt.bar(female_sport,no_of_female,color='grey')\n",
        "\n"
      ],
      "execution_count": null,
      "outputs": [
        {
          "data": {
            "text/plain": [
              "<BarContainer object of 5 artists>"
            ]
          },
          "execution_count": 21,
          "metadata": {},
          "output_type": "execute_result"
        },
        {
          "data": {
            "image/png": "[encoded data removed]",
            "text/plain": [
              "<Figure size 1008x504 with 1 Axes>"
            ]
          },
          "metadata": {
            "needs_background": "light"
          },
          "output_type": "display_data"
        }
      ]
    },
    {
      "cell_type": "code",
      "metadata": {
        "id": "DWpPAVTw5AaZ"
      },
      "source": [
        ""
      ],
      "execution_count": null,
      "outputs": []
    }
  ]
}